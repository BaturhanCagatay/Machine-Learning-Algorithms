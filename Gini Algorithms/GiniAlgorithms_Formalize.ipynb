{
  "nbformat": 4,
  "nbformat_minor": 0,
  "metadata": {
    "colab": {
      "provenance": []
    },
    "kernelspec": {
      "name": "python3",
      "display_name": "Python 3"
    },
    "language_info": {
      "name": "python"
    }
  },
  "cells": [
    {
      "cell_type": "code",
      "source": [
        "import pandas as pd\n",
        "import numpy as np\n",
        "from graphviz import Digraph"
      ],
      "metadata": {
        "id": "ib3rI7fc9CdB"
      },
      "execution_count": 73,
      "outputs": []
    },
    {
      "cell_type": "code",
      "source": [
        "# Gini safsızlığı ve bilgi kazancı fonksiyonları\n",
        "def gini_impurity(labels):\n",
        "    if len(labels) == 0:\n",
        "        return 0\n",
        "    unique_labels, counts = np.unique(labels, return_counts=True)\n",
        "    probabilities = counts / len(labels)\n",
        "    gini = 1 - np.sum(probabilities**2)\n",
        "    return gini\n"
      ],
      "metadata": {
        "id": "fW-leQ6-9EL_"
      },
      "execution_count": 74,
      "outputs": []
    },
    {
      "cell_type": "code",
      "source": [
        "def information_gain(parent_labels, left_child_labels, right_child_labels):\n",
        "    parent_gini = gini_impurity(parent_labels)\n",
        "    left_gini = gini_impurity(left_child_labels)\n",
        "    right_gini = gini_impurity(right_child_labels)\n",
        "\n",
        "    weighted_gini = (len(left_child_labels) / len(parent_labels)) * left_gini + \\\n",
        "                    (len(right_child_labels) / len(parent_labels)) * right_gini\n",
        "\n",
        "    info_gain = parent_gini - weighted_gini\n",
        "    return info_gain\n"
      ],
      "metadata": {
        "id": "B4mHXRag9FI7"
      },
      "execution_count": 75,
      "outputs": []
    },
    {
      "cell_type": "code",
      "source": [
        "def build_tree(df, target, depth=0):\n",
        "    # Eğer tüm etiketler aynıysa, yaprağa ulaşılmıştır\n",
        "    if len(df[target].unique()) == 1:\n",
        "        return df[target].iloc[0]\n",
        "\n",
        "    # Bölünecek başka özellik yoksa veya veri çerçevesi boşsa\n",
        "    if len(df) == 0 or len(df.columns) == 1:\n",
        "        return df[target].mode()[0]\n",
        "\n",
        "    # En iyi bölmeyi seç\n",
        "    best_gain = 0\n",
        "    best_feature = None\n",
        "    for feature in df.drop(columns=[target]).columns:\n",
        "        unique_values = df[feature].unique()\n",
        "        for value in unique_values:\n",
        "            left_split = df[df[feature] == value][target].tolist()\n",
        "            right_split = df[df[feature] != value][target].tolist()\n",
        "            gain = information_gain(df[target].tolist(), left_split, right_split)\n",
        "            if gain > best_gain:\n",
        "                best_gain = gain\n",
        "                best_feature = (feature, value)\n",
        "\n",
        "    # Eğer en iyi özellik bulunamadıysa veya bilgi kazancı sıfırsa\n",
        "    if best_feature is None or best_gain == 0:\n",
        "        return df[target].mode()[0]\n",
        "\n",
        "    # Veri çerçevesinden bölme işlemi sonrası kalanları çıkar\n",
        "    feature, value = best_feature\n",
        "    left_df = df[df[feature] == value].copy()\n",
        "    right_df = df[df[feature] != value].copy()\n",
        "    remaining_df = df.drop(left_df.index).drop(right_df.index)\n",
        "\n",
        "\n",
        "    # Alt dalları oluştur\n",
        "\n",
        "    left_tree = build_tree(left_df, target, depth + 1)\n",
        "    right_tree = build_tree(right_df, target, depth + 1)\n",
        "\n",
        "    return {f\"{feature} == {value}\": {\"Yes\": left_tree, \"No\": right_tree}}\n"
      ],
      "metadata": {
        "id": "Yt1lVAdB9F2_"
      },
      "execution_count": 76,
      "outputs": []
    },
    {
      "cell_type": "code",
      "source": [
        "def visualize_tree(tree, graph=None, parent=None, label=None):\n",
        "    if graph is None:\n",
        "        graph = Digraph()\n",
        "\n",
        "    if not isinstance(tree, dict):\n",
        "        graph.node(str(id(tree)), str(tree), shape=\"box\")\n",
        "        if parent is not None:\n",
        "            graph.edge(str(parent), str(id(tree)), label=label)\n",
        "        return graph\n",
        "\n",
        "    for key, subtree in tree.items():\n",
        "        graph.node(str(id(key)), key)\n",
        "        if parent is not None:\n",
        "            graph.edge(str(parent), str(id(key)), label=label)\n",
        "        visualize_tree(subtree[\"Yes\"], graph, id(key), \"Yes\")\n",
        "        visualize_tree(subtree[\"No\"], graph, id(key), \"No\")\n",
        "\n",
        "    return graph"
      ],
      "metadata": {
        "id": "jT5-4vIu9IHE"
      },
      "execution_count": 77,
      "outputs": []
    },
    {
      "cell_type": "code",
      "source": [
        "def print_rules(tree, parent_rule=\"\"):\n",
        "    if not isinstance(tree, dict):  # Eğer yaprak düğümse\n",
        "        print(f\"Rule: {parent_rule} => {tree}\")\n",
        "        return\n",
        "\n",
        "    for key, subtree in tree.items():\n",
        "        if \"Yes\" in subtree:\n",
        "            current_rule = f\"{parent_rule} AND {key}\" if parent_rule else key\n",
        "            print_rules(subtree[\"Yes\"], current_rule)\n",
        "\n",
        "        if \"No\" in subtree:\n",
        "            negated_rule = f\"{parent_rule} AND NOT {key}\" if parent_rule else f\"NOT {key}\"\n",
        "            print_rules(subtree[\"No\"], negated_rule)"
      ],
      "metadata": {
        "id": "4oqh77GJ9LSf"
      },
      "execution_count": 78,
      "outputs": []
    },
    {
      "cell_type": "code",
      "source": [
        "def predict(tree, sample):\n",
        "    if not isinstance(tree, dict):\n",
        "        return tree\n",
        "\n",
        "    for key, subtree in tree.items():\n",
        "        feature, value = key.split(\" == \")\n",
        "        if sample[feature] == value:\n",
        "            return predict(subtree[\"Yes\"], sample)\n",
        "        else:\n",
        "            return predict(subtree[\"No\"], sample)\n"
      ],
      "metadata": {
        "id": "USDKaniV9NKd"
      },
      "execution_count": 80,
      "outputs": []
    },
    {
      "cell_type": "code",
      "source": [
        "# Load dataset\n",
        "file_path = input(\"Enter the path to your CSV file: \")\n",
        "df = pd.read_csv(file_path)\n",
        "\n",
        "\n",
        "target_col = input(\"Enter the target column name: \")\n",
        "\n",
        "# Karar ağacını oluştur\n",
        "# Eksik değerleri temizleme\n",
        "df.dropna(subset=[target_col], inplace=True)\n",
        "tree = build_tree(df, target_col)\n",
        "\n",
        "# Karar ağacını görselleştir\n",
        "graph = visualize_tree(tree)\n",
        "graph.render(\"decision_tree2\", format=\"png\", cleanup=True)\n",
        "print_rules(tree)"
      ],
      "metadata": {
        "colab": {
          "base_uri": "https://localhost:8080/"
        },
        "id": "T5Lxcu5H9UKp",
        "outputId": "78d4d02f-4dc4-4ba6-cfb1-c47e08ab26ff"
      },
      "execution_count": 81,
      "outputs": [
        {
          "output_type": "stream",
          "name": "stdout",
          "text": [
            "Enter the path to your CSV file: /content/gini1.csv\n",
            "Enter the target column name: Kabul\n",
            "Rule: Yaş == Genç => Hayır\n",
            "Rule: NOT Yaş == Genç AND Eğitim == Yüksek AND Yaş == Orta => Hayır\n",
            "Rule: NOT Yaş == Genç AND Eğitim == Yüksek AND NOT Yaş == Orta => Evet\n",
            "Rule: NOT Yaş == Genç AND NOT Eğitim == Yüksek => Evet\n"
          ]
        }
      ]
    },
    {
      "cell_type": "code",
      "source": [
        "# Tüm veri noktaları için tahminleri yapın ve gerçek değerlerle karşılaştırın\n",
        "predictions = []\n",
        "for index, row in df.iterrows():\n",
        "  sample = {\n",
        "      'Cinsiyet': row['Cinsiyet'],\n",
        "      'Yaş': row['Yaş'],\n",
        "      'Eğitim': row['Eğitim'],\n",
        "  }\n",
        "  predictions.append(predict(tree, sample))\n",
        "\n",
        "# Gerçek değerler ve tahminler arasında karşılaştırma\n",
        "df['Tahmin'] = predictions\n",
        "print(df[['Kabul', 'Tahmin']])\n",
        "\n",
        "# Doğruluk oranını hesapla\n",
        "accuracy = (df['Kabul'] == df['Tahmin']).sum() / len(df)\n",
        "print(f\"Doğruluk Oranı: {accuracy}\")"
      ],
      "metadata": {
        "colab": {
          "base_uri": "https://localhost:8080/"
        },
        "id": "TCr18p4m9Z4U",
        "outputId": "35f6be72-77f9-4bfd-b621-31eb9337008e"
      },
      "execution_count": 83,
      "outputs": [
        {
          "output_type": "stream",
          "name": "stdout",
          "text": [
            "   Kabul Tahmin\n",
            "0   Evet   Evet\n",
            "1  Hayır  Hayır\n",
            "2  Hayır  Hayır\n",
            "3   Evet   Evet\n",
            "4   Evet   Evet\n",
            "5   Evet   Evet\n",
            "6  Hayır  Hayır\n",
            "Doğruluk Oranı: 1.0\n"
          ]
        }
      ]
    },
    {
      "cell_type": "markdown",
      "source": [
        "# Full Hali"
      ],
      "metadata": {
        "id": "lPc63v1Y86c2"
      }
    },
    {
      "cell_type": "code",
      "source": [
        "import pandas as pd\n",
        "import numpy as np\n",
        "from graphviz import Digraph\n",
        "\n",
        "# Gini safsızlığı ve bilgi kazancı fonksiyonları\n",
        "def gini_impurity(labels):\n",
        "    if len(labels) == 0:\n",
        "        return 0\n",
        "    unique_labels, counts = np.unique(labels, return_counts=True)\n",
        "    probabilities = counts / len(labels)\n",
        "    gini = 1 - np.sum(probabilities**2)\n",
        "    return gini\n",
        "\n",
        "def information_gain(parent_labels, left_child_labels, right_child_labels):\n",
        "    parent_gini = gini_impurity(parent_labels)\n",
        "    left_gini = gini_impurity(left_child_labels)\n",
        "    right_gini = gini_impurity(right_child_labels)\n",
        "\n",
        "    weighted_gini = (len(left_child_labels) / len(parent_labels)) * left_gini + \\\n",
        "                    (len(right_child_labels) / len(parent_labels)) * right_gini\n",
        "\n",
        "    info_gain = parent_gini - weighted_gini\n",
        "    return info_gain\n",
        "\n",
        "def build_tree(df, target, depth=0):\n",
        "    # Eğer tüm etiketler aynıysa, yaprağa ulaşılmıştır\n",
        "    if len(df[target].unique()) == 1:\n",
        "        return df[target].iloc[0]\n",
        "\n",
        "    # Bölünecek başka özellik yoksa veya veri çerçevesi boşsa\n",
        "    if len(df) == 0 or len(df.columns) == 1:\n",
        "        return df[target].mode()[0]\n",
        "\n",
        "    # En iyi bölmeyi seç\n",
        "    best_gain = 0\n",
        "    best_feature = None\n",
        "    for feature in df.drop(columns=[target]).columns:\n",
        "        unique_values = df[feature].unique()\n",
        "        for value in unique_values:\n",
        "            left_split = df[df[feature] == value][target].tolist()\n",
        "            right_split = df[df[feature] != value][target].tolist()\n",
        "            gain = information_gain(df[target].tolist(), left_split, right_split)\n",
        "            if gain > best_gain:\n",
        "                best_gain = gain\n",
        "                best_feature = (feature, value)\n",
        "\n",
        "    # Eğer en iyi özellik bulunamadıysa veya bilgi kazancı sıfırsa\n",
        "    if best_feature is None or best_gain == 0:\n",
        "        return df[target].mode()[0]\n",
        "\n",
        "    # Veri çerçevesinden bölme işlemi sonrası kalanları çıkar\n",
        "    feature, value = best_feature\n",
        "    left_df = df[df[feature] == value].copy()\n",
        "    right_df = df[df[feature] != value].copy()\n",
        "    remaining_df = df.drop(left_df.index).drop(right_df.index)\n",
        "\n",
        "\n",
        "    # Alt dalları oluştur\n",
        "\n",
        "    left_tree = build_tree(left_df, target, depth + 1)\n",
        "    right_tree = build_tree(right_df, target, depth + 1)\n",
        "\n",
        "    return {f\"{feature} == {value}\": {\"Yes\": left_tree, \"No\": right_tree}}\n",
        "\n",
        "# Karar ağacını görselleştirme\n",
        "def visualize_tree(tree, graph=None, parent=None, label=None):\n",
        "    if graph is None:\n",
        "        graph = Digraph()\n",
        "\n",
        "    if not isinstance(tree, dict):\n",
        "        graph.node(str(id(tree)), str(tree), shape=\"box\")\n",
        "        if parent is not None:\n",
        "            graph.edge(str(parent), str(id(tree)), label=label)\n",
        "        return graph\n",
        "\n",
        "    for key, subtree in tree.items():\n",
        "        graph.node(str(id(key)), key)\n",
        "        if parent is not None:\n",
        "            graph.edge(str(parent), str(id(key)), label=label)\n",
        "        visualize_tree(subtree[\"Yes\"], graph, id(key), \"Yes\")\n",
        "        visualize_tree(subtree[\"No\"], graph, id(key), \"No\")\n",
        "\n",
        "    return graph\n",
        "\n",
        "def print_rules(tree, parent_rule=\"\"):\n",
        "    if not isinstance(tree, dict):  # Eğer yaprak düğümse\n",
        "        print(f\"Rule: {parent_rule} => {tree}\")\n",
        "        return\n",
        "\n",
        "    for key, subtree in tree.items():\n",
        "        if \"Yes\" in subtree:\n",
        "            current_rule = f\"{parent_rule} AND {key}\" if parent_rule else key\n",
        "            print_rules(subtree[\"Yes\"], current_rule)\n",
        "\n",
        "        if \"No\" in subtree:\n",
        "            negated_rule = f\"{parent_rule} AND NOT {key}\" if parent_rule else f\"NOT {key}\"\n",
        "            print_rules(subtree[\"No\"], negated_rule)\n",
        "\n",
        "\n",
        "# Load dataset\n",
        "file_path = input(\"Enter the path to your CSV file: \")\n",
        "df = pd.read_csv(file_path)\n",
        "\n",
        "\n",
        "target_col = input(\"Enter the target column name: \")\n",
        "\n",
        "# Karar ağacını oluştur\n",
        "# Eksik değerleri temizleme\n",
        "df.dropna(subset=[target_col], inplace=True)\n",
        "tree = build_tree(df, target_col)\n",
        "\n",
        "# Karar ağacını görselleştir\n",
        "graph = visualize_tree(tree)\n",
        "graph.render(\"decision_tree\", format=\"png\", cleanup=True)\n",
        "print_rules(tree)\n"
      ],
      "metadata": {
        "colab": {
          "base_uri": "https://localhost:8080/",
          "height": 70
        },
        "id": "-UyTmtspya9N",
        "outputId": "fefee9bc-c288-4465-d70d-7953f0a51a65"
      },
      "execution_count": 62,
      "outputs": [
        {
          "name": "stdout",
          "output_type": "stream",
          "text": [
            "Enter the path to your CSV file: /content/gini1.csv\n",
            "Enter the target column name: Kabul\n"
          ]
        },
        {
          "output_type": "execute_result",
          "data": {
            "text/plain": [
              "'decision_tree.png'"
            ],
            "application/vnd.google.colaboratory.intrinsic+json": {
              "type": "string"
            }
          },
          "metadata": {},
          "execution_count": 62
        }
      ]
    },
    {
      "cell_type": "code",
      "source": [
        "# prompt: oluşan ağaca göre verilen veri setlerini yerleşitirip kabul durumlarını kıyaslamanı istiyorum\n",
        "\n",
        "def predict(tree, sample):\n",
        "    if not isinstance(tree, dict):\n",
        "        return tree\n",
        "\n",
        "    for key, subtree in tree.items():\n",
        "        feature, value = key.split(\" == \")\n",
        "        if sample[feature] == value:\n",
        "            return predict(subtree[\"Yes\"], sample)\n",
        "        else:\n",
        "            return predict(subtree[\"No\"], sample)\n",
        "\n",
        "# Örnek bir veri noktası oluştur\n",
        "sample_data = {\n",
        "    'Cinsiyet': df['Cinsiyet'].iloc[0],  # İlk verinin cinsiyetini al\n",
        "    'Yaş': df['Yaş'].iloc[0],  # İlk verinin yaşını al\n",
        "    'Eğitim': df['Eğitim'].iloc[0],  # İlk verinin eğitim durumunu al\n",
        "}\n",
        "\n",
        "# Tahmini al\n",
        "prediction = predict(tree, sample_data)\n",
        "\n",
        "# Tahmini yazdır\n",
        "print(f\"Tahmin edilen kabul durumu: {prediction}\")\n",
        "\n",
        "# Tüm veri noktaları için tahminleri yapın ve gerçek değerlerle karşılaştırın\n",
        "predictions = []\n",
        "for index, row in df.iterrows():\n",
        "  sample = {\n",
        "      'Cinsiyet': row['Cinsiyet'],\n",
        "      'Yaş': row['Yaş'],\n",
        "      'Eğitim': row['Eğitim'],\n",
        "  }\n",
        "  predictions.append(predict(tree, sample))\n",
        "\n",
        "# Gerçek değerler ve tahminler arasında karşılaştırma\n",
        "df['Tahmin'] = predictions\n",
        "print(df[['Kabul', 'Tahmin']])\n",
        "\n",
        "# Doğruluk oranını hesapla\n",
        "accuracy = (df['Kabul'] == df['Tahmin']).sum() / len(df)\n",
        "print(f\"Doğruluk Oranı: {accuracy}\")"
      ],
      "metadata": {
        "colab": {
          "base_uri": "https://localhost:8080/"
        },
        "id": "Br3LtnaT36HK",
        "outputId": "712370fd-28ab-4d55-fc27-0edd2c5cd687"
      },
      "execution_count": 56,
      "outputs": [
        {
          "output_type": "stream",
          "name": "stdout",
          "text": [
            "Tahmin edilen kabul durumu: Evet\n",
            "   Kabul Tahmin\n",
            "0   Evet   Evet\n",
            "1  Hayır  Hayır\n",
            "2  Hayır  Hayır\n",
            "3   Evet   Evet\n",
            "4   Evet   Evet\n",
            "5   Evet   Evet\n",
            "6  Hayır  Hayır\n",
            "Doğruluk Oranı: 1.0\n"
          ]
        }
      ]
    }
  ]
}