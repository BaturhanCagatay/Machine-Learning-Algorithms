{
  "nbformat": 4,
  "nbformat_minor": 0,
  "metadata": {
    "colab": {
      "provenance": []
    },
    "kernelspec": {
      "name": "python3",
      "display_name": "Python 3"
    },
    "language_info": {
      "name": "python"
    }
  },
  "cells": [
    {
      "cell_type": "markdown",
      "source": [
        "# Kütüphaneler"
      ],
      "metadata": {
        "id": "yw4_xi5S9A6a"
      }
    },
    {
      "cell_type": "code",
      "execution_count": 2,
      "metadata": {
        "id": "54nllFXu89kI"
      },
      "outputs": [],
      "source": [
        "import csv # CSV çıktısı verebilmek için\n",
        "from itertools import combinations # Belirli boyuttta eleman kombinasyonları oluşturmak için"
      ]
    },
    {
      "cell_type": "markdown",
      "source": [
        "# Destek Değerini Hesaplayan Fonksiyon"
      ],
      "metadata": {
        "id": "Rr9t9wjrAIJa"
      }
    },
    {
      "cell_type": "code",
      "source": [
        "def calculate_support(data, itemset):\n",
        "    count = 0\n",
        "    for transaction in data:\n",
        "        if itemset.issubset(transaction):\n",
        "            count += 1\n",
        "    return count / len(data)"
      ],
      "metadata": {
        "id": "h92rT-y79IX5"
      },
      "execution_count": 3,
      "outputs": []
    },
    {
      "cell_type": "markdown",
      "source": [
        "# Adayları Oluşturan Fonksiyon"
      ],
      "metadata": {
        "id": "X-v58RVnAMvF"
      }
    },
    {
      "cell_type": "code",
      "source": [
        "def generate_candidates(frequent_itemsets, k):\n",
        "    candidates = set()  # Boş aday kümesi\n",
        "    frequent_items = list(frequent_itemsets)\n",
        "    for i in range(len(frequent_items)):\n",
        "        for j in range(i + 1, len(frequent_items)):\n",
        "            union_set = frequent_items[i] | frequent_items[j]\n",
        "            if len(union_set) == k:\n",
        "                candidates.add(frozenset(union_set))\n",
        "    return candidates"
      ],
      "metadata": {
        "id": "9j0bJnf-AQud"
      },
      "execution_count": 4,
      "outputs": []
    },
    {
      "cell_type": "markdown",
      "source": [
        "# Genel Algoritmayı Sağlayan Fonksiyon\n",
        "\n"
      ],
      "metadata": {
        "id": "r4gLfS44CYQB"
      }
    },
    {
      "cell_type": "code",
      "source": [
        "def apriori(data, min_support):\n",
        "    transactions = [set(transaction) for transaction in data]\n",
        "    items = {frozenset([item]) for transaction in transactions for item in transaction}\n",
        "    frequent_itemsets = {item for item in items if calculate_support(transactions, item) >= min_support}\n",
        "\n",
        "    k = 2\n",
        "    result = list(frequent_itemsets)\n",
        "    while frequent_itemsets:\n",
        "        candidates = generate_candidates(frequent_itemsets, k)\n",
        "        frequent_itemsets = {itemset for itemset in candidates if calculate_support(transactions, itemset) >= min_support}\n",
        "        result.extend(frequent_itemsets)\n",
        "        k += 1\n",
        "    return result"
      ],
      "metadata": {
        "id": "ZX5ZSYEWAR2e"
      },
      "execution_count": 6,
      "outputs": []
    },
    {
      "cell_type": "markdown",
      "source": [
        " # Kuralları Yazdıran Fonksiyon"
      ],
      "metadata": {
        "id": "ahPXQ8pIFDQn"
      }
    },
    {
      "cell_type": "code",
      "source": [
        "def generate_rules(frequent_itemsets, data, min_confidence):\n",
        "    transactions = [set(transaction) for transaction in data]\n",
        "    rules = []\n",
        "    for itemset in frequent_itemsets:\n",
        "        subsets = [frozenset(x) for x in combinations(itemset, len(itemset) - 1)]\n",
        "        for subset in subsets:\n",
        "            remain = itemset - subset\n",
        "            if remain:\n",
        "                confidence = calculate_support(transactions, itemset) / calculate_support(transactions, subset)\n",
        "                if confidence >= min_confidence:\n",
        "                    rules.append((subset, remain, confidence))\n",
        "    return rules\n"
      ],
      "metadata": {
        "id": "KeCsLnvIFGLX"
      },
      "execution_count": 9,
      "outputs": []
    },
    {
      "cell_type": "markdown",
      "source": [
        "# CSV'den Okuyan Fonksiyon"
      ],
      "metadata": {
        "id": "GyuLqrZlFLN6"
      }
    },
    {
      "cell_type": "code",
      "source": [
        "def read_transactions_from_csv(file_path):\n",
        "    with open(file_path, 'r') as file:\n",
        "        reader = csv.reader(file)\n",
        "        return [row for row in reader]"
      ],
      "metadata": {
        "id": "cdONCI08FGYJ"
      },
      "execution_count": 10,
      "outputs": []
    },
    {
      "cell_type": "markdown",
      "source": [
        "# CSV'ye Yazdıran Fonksiyon"
      ],
      "metadata": {
        "id": "g_3nelxZFPWA"
      }
    },
    {
      "cell_type": "code",
      "source": [
        "def write_results_to_csv(frequent_itemsets, rules, itemsets_file, rules_file):\n",
        "    with open(itemsets_file, 'w', newline='') as file:\n",
        "        writer = csv.writer(file)\n",
        "        writer.writerow([\"Frequent Itemsets\"])\n",
        "        for itemset in frequent_itemsets:\n",
        "            writer.writerow([\", \".join(itemset)])\n",
        "\n",
        "    with open(rules_file, 'w', newline='') as file:\n",
        "        writer = csv.writer(file)\n",
        "        writer.writerow([\"Antecedent\", \"Consequent\", \"Confidence\"])\n",
        "        for rule in rules:\n",
        "            writer.writerow([\", \".join(rule[0]), \", \".join(rule[1]), f\"{rule[2]:.2f}\"])"
      ],
      "metadata": {
        "id": "8IRJCchuFVOX"
      },
      "execution_count": 11,
      "outputs": []
    },
    {
      "cell_type": "markdown",
      "source": [
        "# Geri Kalanlar"
      ],
      "metadata": {
        "id": "7slwYclIFZxN"
      }
    },
    {
      "cell_type": "code",
      "source": [
        "# Örnek kullanım\n",
        "input_csv = '/content/Transaction.csv'\n",
        "output_itemsets_csv = 'frequent_itemsets.csv'\n",
        "output_rules_csv = 'association_rules.csv'\n",
        "\n",
        "data = read_transactions_from_csv(input_csv)\n",
        "\n",
        "min_support = 0.5\n",
        "min_confidence = 0.7\n",
        "\n",
        "frequent_itemsets = apriori(data, min_support)\n",
        "\n",
        "print(\"Sık Öğeler:\")\n",
        "for itemset in frequent_itemsets:\n",
        "    print(itemset)\n",
        "\n",
        "rules = generate_rules(frequent_itemsets, data, min_confidence)\n",
        "print(\"\\nKurallar:\")\n",
        "for rule in rules:\n",
        "    print(f\"{set(rule[0])} -> {set(rule[1])} (Confidence: {rule[2]:.2f})\")\n",
        "\n",
        "write_results_to_csv(frequent_itemsets, rules, output_itemsets_csv, output_rules_csv)\n",
        "\n",
        "print(\"Sonuçlar CSV dosyalarına yazıldı.\")"
      ],
      "metadata": {
        "colab": {
          "base_uri": "https://localhost:8080/"
        },
        "id": "Sw5ZFghXFawI",
        "outputId": "8fa728da-d4ce-480d-d30d-f704564aacfe"
      },
      "execution_count": 20,
      "outputs": [
        {
          "output_type": "stream",
          "name": "stdout",
          "text": [
            "Sık Öğeler:\n",
            "frozenset({'makarna'})\n",
            "frozenset({'şeker'})\n",
            "frozenset({'peynir'})\n",
            "frozenset({'ekmek'})\n",
            "frozenset({'peynir', 'ekmek'})\n",
            "frozenset({'peynir', 'makarna'})\n",
            "frozenset({'makarna', 'ekmek'})\n",
            "frozenset({'peynir', 'makarna', 'ekmek'})\n",
            "\n",
            "Kurallar:\n",
            "set() -> {'makarna'} (Confidence: 0.80)\n",
            "set() -> {'peynir'} (Confidence: 0.80)\n",
            "set() -> {'ekmek'} (Confidence: 0.80)\n",
            "{'peynir'} -> {'ekmek'} (Confidence: 0.75)\n",
            "{'ekmek'} -> {'peynir'} (Confidence: 0.75)\n",
            "{'peynir'} -> {'makarna'} (Confidence: 1.00)\n",
            "{'makarna'} -> {'peynir'} (Confidence: 1.00)\n",
            "{'makarna'} -> {'ekmek'} (Confidence: 0.75)\n",
            "{'ekmek'} -> {'makarna'} (Confidence: 0.75)\n",
            "{'peynir', 'makarna'} -> {'ekmek'} (Confidence: 0.75)\n",
            "{'peynir', 'ekmek'} -> {'makarna'} (Confidence: 1.00)\n",
            "{'makarna', 'ekmek'} -> {'peynir'} (Confidence: 1.00)\n",
            "Sonuçlar CSV dosyalarına yazıldı.\n"
          ]
        }
      ]
    },
    {
      "cell_type": "code",
      "source": [
        "# Öneri sistemi\n",
        "def generate_recommendations(rules, user_input):\n",
        "    recommendations = []\n",
        "    for antecedent, consequent, confidence in rules:\n",
        "        if user_input.issubset(antecedent):  # Kullanıcının girdisi antecedent'te varsa\n",
        "            recommendations.append((consequent, confidence))\n",
        "    recommendations.sort(key=lambda x: x[1], reverse=True)  # Güvene göre sırala\n",
        "    return recommendations\n",
        "\n",
        "user_input = input(\"Lütfen öneri için bir öğe giriniz (örnek: 'milk'): \").split(',')\n",
        "user_set = set(user_input)\n",
        "recommendations = generate_recommendations(rules, user_set)\n",
        "print(recommendations)"
      ],
      "metadata": {
        "colab": {
          "base_uri": "https://localhost:8080/"
        },
        "id": "2kwohGDcFa8g",
        "outputId": "a647405c-c73c-495d-d880-21e564ff7dfd"
      },
      "execution_count": 19,
      "outputs": [
        {
          "output_type": "stream",
          "name": "stdout",
          "text": [
            "Lütfen öneri için bir öğe giriniz (örnek: 'milk'): makarna\n",
            "[(frozenset({'peynir'}), 1.0), (frozenset({'peynir'}), 1.0), (frozenset({'ekmek'}), 0.7499999999999999), (frozenset({'ekmek'}), 0.7499999999999999)]\n"
          ]
        }
      ]
    },
    {
      "cell_type": "code",
      "source": [],
      "metadata": {
        "id": "jXwwIFoSFrjI"
      },
      "execution_count": null,
      "outputs": []
    }
  ]
}