{
  "nbformat": 4,
  "nbformat_minor": 0,
  "metadata": {
    "colab": {
      "provenance": []
    },
    "kernelspec": {
      "name": "python3",
      "display_name": "Python 3"
    },
    "language_info": {
      "name": "python"
    }
  },
  "cells": [
    {
      "cell_type": "code",
      "execution_count": 2,
      "metadata": {
        "id": "0XVXbF5Cea-N"
      },
      "outputs": [],
      "source": [
        "import pandas as pd\n",
        "import numpy as np\n",
        "import graphviz\n"
      ]
    },
    {
      "cell_type": "code",
      "source": [
        "def calculate_twoing_criterion(data, target_column):\n",
        "    \"\"\"\n",
        "    Calculates the twoing criterion for splits within each column individually.\n",
        "    \"\"\"\n",
        "    best_split_combination = None\n",
        "    best_criterion_value = -1\n",
        "\n",
        "    split_columns = [col for col in data.columns if col != target_column]\n",
        "\n",
        "    for col in split_columns:\n",
        "        for split_value in data[col].unique():\n",
        "            data_copy = data.copy()\n",
        "            data_copy[col] = data_copy[col].apply(lambda x: split_value if x == split_value else 'Other')\n",
        "\n",
        "            group_counts = data_copy.groupby(col)[target_column].value_counts()\n",
        "            probabilities = group_counts / group_counts.groupby(level=0).sum()\n",
        "            probability_table = probabilities.unstack(fill_value=0)\n",
        "\n",
        "            if len(probability_table.columns) == 1:\n",
        "                probability_table['dummy'] = 0\n",
        "\n",
        "            probability_table.columns = ['P(No)', 'P(Yes)'][:len(probability_table.columns)]\n",
        "            group_ratios = data_copy[col].value_counts() / len(data_copy)\n",
        "            probability_table['Group Ratio'] = group_ratios\n",
        "\n",
        "            try:\n",
        "                normal_yes_prob = probability_table.loc[split_value, 'P(Yes)']\n",
        "                diger_yes_prob = probability_table.loc['Other', 'P(Yes)']\n",
        "                normal_no_prob = probability_table.loc[split_value, 'P(No)']\n",
        "                diger_no_prob = probability_table.loc['Other', 'P(No)']\n",
        "            except KeyError:\n",
        "                continue\n",
        "\n",
        "            total_diff = abs(normal_yes_prob - diger_yes_prob) + abs(normal_no_prob - diger_no_prob)\n",
        "            criterion_value = (2 * total_diff * group_ratios[split_value] * group_ratios['Other'])\n",
        "\n",
        "            if criterion_value > best_criterion_value:\n",
        "                best_criterion_value = criterion_value\n",
        "                best_split_combination = (col, split_value)\n",
        "\n",
        "    return best_split_combination, best_criterion_value"
      ],
      "metadata": {
        "id": "UX2s_vjoe9fn"
      },
      "execution_count": 9,
      "outputs": []
    },
    {
      "cell_type": "code",
      "source": [
        "def build_tree(data, target_column):\n",
        "    \"\"\"\n",
        "    Builds a decision tree recursively using the twoing criterion.\n",
        "    \"\"\"\n",
        "    if len(data[target_column].unique()) == 1:\n",
        "        return data[target_column].iloc[0]\n",
        "\n",
        "    best_split_combination, best_criterion_value = calculate_twoing_criterion(data, target_column)\n",
        "\n",
        "    if best_split_combination is None:\n",
        "        return data[target_column].value_counts().idxmax()\n",
        "\n",
        "    split_column = best_split_combination[0]\n",
        "    split_value = best_split_combination[1]\n",
        "\n",
        "    left_split = data[data[split_column] == split_value]\n",
        "    right_split = data[data[split_column] != split_value]\n",
        "\n",
        "    if len(left_split) == 0 or len(right_split) == 0:\n",
        "        return data[target_column].value_counts().idxmax()\n",
        "\n",
        "    left_leaf = build_tree(left_split, target_column)\n",
        "    right_leaf = build_tree(right_split, target_column)\n",
        "\n",
        "    tree = {split_column: {split_value: left_leaf, 'Other': right_leaf}}\n",
        "    return tree"
      ],
      "metadata": {
        "id": "gEPTWSejfC0B"
      },
      "execution_count": 10,
      "outputs": []
    },
    {
      "cell_type": "code",
      "source": [
        "def visualize_tree(tree):\n",
        "    \"\"\"\n",
        "    Recursively visualizes the decision tree with labeled branches.\n",
        "    \"\"\"\n",
        "    dot = graphviz.Digraph(comment=\"Decision Tree\")\n",
        "\n",
        "    def add_nodes_edges(subtree, parent_name, parent_label=\"\"):\n",
        "        for key, value in subtree.items():\n",
        "            # Düğümün etiketi\n",
        "            edge_label = str(key)\n",
        "\n",
        "            if isinstance(value, dict):\n",
        "                child_name = f\"{parent_name}_{key}\"\n",
        "                dot.node(child_name, label=key)\n",
        "                dot.edge(parent_name, child_name, label=edge_label)\n",
        "                add_nodes_edges(value, child_name)\n",
        "            else:\n",
        "                leaf_name = f\"{parent_name}_{key}_leaf\"\n",
        "                dot.node(leaf_name, label=str(value), shape=\"ellipse\")\n",
        "                dot.edge(parent_name, leaf_name, label=edge_label)\n",
        "\n",
        "    root_name = \"root\"\n",
        "    dot.node(root_name, label=\"root\")\n",
        "    add_nodes_edges(tree, root_name)\n",
        "\n",
        "    return dot"
      ],
      "metadata": {
        "id": "AT0sTHa2fDvm"
      },
      "execution_count": 11,
      "outputs": []
    },
    {
      "cell_type": "code",
      "source": [
        "def print_tree_rules(tree, indent=\"\"):\n",
        "    \"\"\"\n",
        "    Karar ağacındaki kuralları yazdıran fonksiyon.\n",
        "    tree: Karar ağacı (ağaç yapısının kökü)\n",
        "    indent: İç içe geçmiş düğümleri doğru şekilde yazdırmak için boşluklar\n",
        "    \"\"\"\n",
        "    if isinstance(tree, dict):  # Düğümde bölünme varsa\n",
        "        for feature, sub_tree in tree.items():\n",
        "            # 'feature' (özellik) üzerinde karar yapılmış\n",
        "            for value, subtree in sub_tree.items():\n",
        "                print(f\"{indent}If {feature} = {value}:\")\n",
        "                print_tree_rules(subtree, indent + \"  \")\n",
        "    else:  # Bir yaprak (sonuç sınıfı) ile karşılaşıldığında\n",
        "        print(f\"{indent}Result: {tree}\")\n",
        "\n"
      ],
      "metadata": {
        "id": "vq_dgMJ1x-no"
      },
      "execution_count": 14,
      "outputs": []
    },
    {
      "cell_type": "code",
      "source": [
        "\n",
        "file_path = input(\"CSV dosyasının yolunu girin: \")  # Kullanıcı dosya yolunu girmeli\n",
        "target_column = input(\"Hedef sütun adını girin: \")  # Kullanıcı hedef sütunu girmeli\n",
        "output_image_name = input(\"Görsel dosya ismi (uzantısız) girin: \")  # Kullanıcı resim dosya adını girmeli\n",
        "\n",
        "# CSV'yi okuyun\n",
        "data = pd.read_csv(file_path)\n",
        "\n",
        "# Karar ağacını oluşturun\n",
        "tree = build_tree(data, target_column)\n",
        "print(\"Karar ağacı:\", tree)\n",
        "\n",
        "# Karar ağacını görselleştirin\n",
        "decision_tree_graph = visualize_tree(tree)\n",
        "decision_tree_graph.render(output_image_name, format=\"png\", view=True)  # PNG olarak kaydedilir ve açılır\n",
        "# Karar ağacını yazdırmak ve kuralları görmek için\n",
        "print(\"Decision Tree Rules:\")\n",
        "print_tree_rules(tree)"
      ],
      "metadata": {
        "colab": {
          "base_uri": "https://localhost:8080/"
        },
        "id": "IDYGAbURg4u8",
        "outputId": "eb91778b-536f-4b21-b905-bd46e0512e43"
      },
      "execution_count": 15,
      "outputs": [
        {
          "output_type": "stream",
          "name": "stdout",
          "text": [
            "CSV dosyasının yolunu girin: /content/twoing_algorithms.csv\n",
            "Hedef sütun adını girin: Satisfaction\n",
            "Görsel dosya ismi (uzantısız) girin: Tree\n",
            "Karar ağacı: {'Sector': {'IT': {'Income': {'Normal': 'Yes', 'Other': {'Education': {'Primary': 'Yes', 'Other': 'No'}}}}, 'Other': 'Yes'}}\n",
            "Decision Tree Rules:\n",
            "If Sector = IT:\n",
            "  If Income = Normal:\n",
            "    Result: Yes\n",
            "  If Income = Other:\n",
            "    If Education = Primary:\n",
            "      Result: Yes\n",
            "    If Education = Other:\n",
            "      Result: No\n",
            "If Sector = Other:\n",
            "  Result: Yes\n"
          ]
        }
      ]
    },
    {
      "cell_type": "markdown",
      "source": [
        "# Full Hali"
      ],
      "metadata": {
        "id": "ghOCXnMye3rk"
      }
    },
    {
      "cell_type": "code",
      "source": [
        "import pandas as pd\n",
        "import graphviz\n",
        "\n",
        "def calculate_twoing_criterion(data, target_column):\n",
        "    \"\"\"\n",
        "    Calculates the twoing criterion for splits within each column individually.\n",
        "    \"\"\"\n",
        "    best_split_combination = None\n",
        "    best_criterion_value = -1\n",
        "\n",
        "    split_columns = [col for col in data.columns if col != target_column]\n",
        "\n",
        "    for col in split_columns:\n",
        "        for split_value in data[col].unique():\n",
        "            data_copy = data.copy()\n",
        "            data_copy[col] = data_copy[col].apply(lambda x: split_value if x == split_value else 'Diğer')\n",
        "\n",
        "            group_counts = data_copy.groupby(col)[target_column].value_counts()\n",
        "            probabilities = group_counts / group_counts.groupby(level=0).sum()\n",
        "            probability_table = probabilities.unstack(fill_value=0)\n",
        "\n",
        "            if len(probability_table.columns) == 1:\n",
        "                probability_table['dummy'] = 0\n",
        "\n",
        "            probability_table.columns = ['P(No)', 'P(Yes)'][:len(probability_table.columns)]\n",
        "            group_ratios = data_copy[col].value_counts() / len(data_copy)\n",
        "            probability_table['Group Ratio'] = group_ratios\n",
        "\n",
        "            try:\n",
        "                normal_yes_prob = probability_table.loc[split_value, 'P(Yes)']\n",
        "                diger_yes_prob = probability_table.loc['Other', 'P(Yes)']\n",
        "                normal_no_prob = probability_table.loc[split_value, 'P(No)']\n",
        "                diger_no_prob = probability_table.loc['Other', 'P(No)']\n",
        "            except KeyError:\n",
        "                continue\n",
        "\n",
        "            total_diff = abs(normal_yes_prob - diger_yes_prob) + abs(normal_no_prob - diger_no_prob)\n",
        "            criterion_value = (2 * total_diff * group_ratios[split_value] * group_ratios['Other'])\n",
        "\n",
        "            if criterion_value > best_criterion_value:\n",
        "                best_criterion_value = criterion_value\n",
        "                best_split_combination = (col, split_value)\n",
        "\n",
        "    return best_split_combination, best_criterion_value\n",
        "\n",
        "def build_tree(data, target_column):\n",
        "    \"\"\"\n",
        "    Builds a decision tree recursively using the twoing criterion.\n",
        "    \"\"\"\n",
        "    if len(data[target_column].unique()) == 1:\n",
        "        return data[target_column].iloc[0]\n",
        "\n",
        "    best_split_combination, best_criterion_value = calculate_twoing_criterion(data, target_column)\n",
        "\n",
        "    if best_split_combination is None:\n",
        "        return data[target_column].value_counts().idxmax()\n",
        "\n",
        "    split_column = best_split_combination[0]\n",
        "    split_value = best_split_combination[1]\n",
        "\n",
        "    left_split = data[data[split_column] == split_value]\n",
        "    right_split = data[data[split_column] != split_value]\n",
        "\n",
        "    if len(left_split) == 0 or len(right_split) == 0:\n",
        "        return data[target_column].value_counts().idxmax()\n",
        "\n",
        "    left_leaf = build_tree(left_split, target_column)\n",
        "    right_leaf = build_tree(right_split, target_column)\n",
        "\n",
        "    tree = {split_column: {split_value: left_leaf, 'Other': right_leaf}}\n",
        "    return tree\n",
        "\n",
        "def visualize_tree(tree):\n",
        "    \"\"\"\n",
        "    Recursively visualizes the decision tree with labeled branches.\n",
        "    \"\"\"\n",
        "    dot = graphviz.Digraph(comment=\"Decision Tree\")\n",
        "\n",
        "    def add_nodes_edges(subtree, parent_name, parent_label=\"\"):\n",
        "        for key, value in subtree.items():\n",
        "            # Düğümün etiketi\n",
        "            edge_label = str(key)\n",
        "\n",
        "            if isinstance(value, dict):\n",
        "                child_name = f\"{parent_name}_{key}\"\n",
        "                dot.node(child_name, label=key)\n",
        "                dot.edge(parent_name, child_name, label=edge_label)\n",
        "                add_nodes_edges(value, child_name)\n",
        "            else:\n",
        "                leaf_name = f\"{parent_name}_{key}_leaf\"\n",
        "                dot.node(leaf_name, label=str(value), shape=\"ellipse\")\n",
        "                dot.edge(parent_name, leaf_name, label=edge_label)\n",
        "\n",
        "    root_name = \"root\"\n",
        "    dot.node(root_name, label=\"root\")\n",
        "    add_nodes_edges(tree, root_name)\n",
        "\n",
        "    return dot\n",
        "\n",
        "\n",
        "file_path = input(\"CSV dosyasının yolunu girin: \")  # Kullanıcı dosya yolunu girmeli\n",
        "target_column = input(\"Hedef sütun adını girin: \")  # Kullanıcı hedef sütunu girmeli\n",
        "output_image_name = input(\"Görsel dosya ismi (uzantısız) girin: \")  # Kullanıcı resim dosya adını girmeli\n",
        "\n",
        "# CSV'yi okuyun\n",
        "data = pd.read_csv(file_path)\n",
        "\n",
        "# Karar ağacını oluşturun\n",
        "tree = build_tree(data, target_column)\n",
        "print(\"Karar ağacı:\", tree)\n",
        "\n",
        "# Karar ağacını görselleştirin\n",
        "decision_tree_graph = visualize_tree(tree)\n",
        "decision_tree_graph.render(output_image_name, format=\"png\", view=True)  # PNG olarak kaydedilir ve açılır"
      ],
      "metadata": {
        "colab": {
          "base_uri": "https://localhost:8080/",
          "height": 105
        },
        "id": "bR4kapQUe4sk",
        "outputId": "9d766fb4-f299-4e5d-8652-db8ff28c489c"
      },
      "execution_count": 7,
      "outputs": [
        {
          "output_type": "stream",
          "name": "stdout",
          "text": [
            "CSV dosyasının yolunu girin: /content/twoing_algorithms.csv\n",
            "Hedef sütun adını girin: Satisfaction\n",
            "Görsel dosya ismi (uzantısız) girin: tree1\n",
            "Karar ağacı: {'Sector': {'IT': {'Income': {'Normal': 'Yes', 'Diğer': {'Education': {'Primary': 'Yes', 'Diğer': 'No'}}}}, 'Diğer': 'Yes'}}\n"
          ]
        },
        {
          "output_type": "execute_result",
          "data": {
            "text/plain": [
              "'tree1.png'"
            ],
            "application/vnd.google.colaboratory.intrinsic+json": {
              "type": "string"
            }
          },
          "metadata": {},
          "execution_count": 7
        }
      ]
    }
  ]
}